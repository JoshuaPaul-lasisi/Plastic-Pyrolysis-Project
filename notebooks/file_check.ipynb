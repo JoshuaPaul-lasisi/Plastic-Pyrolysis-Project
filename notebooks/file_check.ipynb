{
 "cells": [
  {
   "cell_type": "code",
   "execution_count": 7,
   "id": "3d5f8a89",
   "metadata": {},
   "outputs": [],
   "source": [
    "import pandas as pd\n",
    "import numpy as np"
   ]
  },
  {
   "cell_type": "code",
   "execution_count": 8,
   "id": "ea203235",
   "metadata": {},
   "outputs": [],
   "source": [
    "blend = pd.read_csv(\"../data/blend_compositions.csv\")\n",
    "feed = pd.read_csv(\"../data/plastic_feedstock.csv\")\n",
    "condition = pd.read_csv(\"../data/pyrolysis_conditions.csv\")\n",
    "output = pd.read_csv(\"../data/pyrolysis_outputs.csv\")"
   ]
  },
  {
   "cell_type": "code",
   "execution_count": 9,
   "id": "3a9b2bcf",
   "metadata": {},
   "outputs": [
    {
     "data": {
      "application/vnd.microsoft.datawrangler.viewer.v0+json": {
       "columns": [
        {
         "name": "index",
         "rawType": "int64",
         "type": "integer"
        },
        {
         "name": "blend_id",
         "rawType": "object",
         "type": "string"
        },
        {
         "name": "plastic_id",
         "rawType": "object",
         "type": "string"
        },
        {
         "name": "percentage",
         "rawType": "float64",
         "type": "float"
        }
       ],
       "conversionMethod": "pd.DataFrame",
       "ref": "1739c44d-065b-4249-81ac-24bfd5c7f96f",
       "rows": [
        [
         "0",
         "B1",
         "LDPE",
         "54.88"
        ],
        [
         "1",
         "B1",
         "PS",
         "38.05"
        ],
        [
         "2",
         "B1",
         "HDPE",
         "7.07"
        ],
        [
         "3",
         "B2",
         "LDPE",
         "100.0"
        ],
        [
         "4",
         "B3",
         "PS",
         "100.0"
        ]
       ],
       "shape": {
        "columns": 3,
        "rows": 5
       }
      },
      "text/html": [
       "<div>\n",
       "<style scoped>\n",
       "    .dataframe tbody tr th:only-of-type {\n",
       "        vertical-align: middle;\n",
       "    }\n",
       "\n",
       "    .dataframe tbody tr th {\n",
       "        vertical-align: top;\n",
       "    }\n",
       "\n",
       "    .dataframe thead th {\n",
       "        text-align: right;\n",
       "    }\n",
       "</style>\n",
       "<table border=\"1\" class=\"dataframe\">\n",
       "  <thead>\n",
       "    <tr style=\"text-align: right;\">\n",
       "      <th></th>\n",
       "      <th>blend_id</th>\n",
       "      <th>plastic_id</th>\n",
       "      <th>percentage</th>\n",
       "    </tr>\n",
       "  </thead>\n",
       "  <tbody>\n",
       "    <tr>\n",
       "      <th>0</th>\n",
       "      <td>B1</td>\n",
       "      <td>LDPE</td>\n",
       "      <td>54.88</td>\n",
       "    </tr>\n",
       "    <tr>\n",
       "      <th>1</th>\n",
       "      <td>B1</td>\n",
       "      <td>PS</td>\n",
       "      <td>38.05</td>\n",
       "    </tr>\n",
       "    <tr>\n",
       "      <th>2</th>\n",
       "      <td>B1</td>\n",
       "      <td>HDPE</td>\n",
       "      <td>7.07</td>\n",
       "    </tr>\n",
       "    <tr>\n",
       "      <th>3</th>\n",
       "      <td>B2</td>\n",
       "      <td>LDPE</td>\n",
       "      <td>100.00</td>\n",
       "    </tr>\n",
       "    <tr>\n",
       "      <th>4</th>\n",
       "      <td>B3</td>\n",
       "      <td>PS</td>\n",
       "      <td>100.00</td>\n",
       "    </tr>\n",
       "  </tbody>\n",
       "</table>\n",
       "</div>"
      ],
      "text/plain": [
       "  blend_id plastic_id  percentage\n",
       "0       B1       LDPE       54.88\n",
       "1       B1         PS       38.05\n",
       "2       B1       HDPE        7.07\n",
       "3       B2       LDPE      100.00\n",
       "4       B3         PS      100.00"
      ]
     },
     "execution_count": 9,
     "metadata": {},
     "output_type": "execute_result"
    }
   ],
   "source": [
    "blend.head()"
   ]
  },
  {
   "cell_type": "code",
   "execution_count": 10,
   "id": "915de8b6",
   "metadata": {},
   "outputs": [
    {
     "data": {
      "application/vnd.microsoft.datawrangler.viewer.v0+json": {
       "columns": [
        {
         "name": "index",
         "rawType": "int64",
         "type": "integer"
        },
        {
         "name": "plastic_id",
         "rawType": "object",
         "type": "string"
        },
        {
         "name": "plastic_type",
         "rawType": "object",
         "type": "string"
        },
        {
         "name": "density",
         "rawType": "float64",
         "type": "float"
        },
        {
         "name": "melting_point",
         "rawType": "int64",
         "type": "integer"
        },
        {
         "name": "degradation_temp",
         "rawType": "int64",
         "type": "integer"
        },
        {
         "name": "additives_present",
         "rawType": "object",
         "type": "string"
        }
       ],
       "conversionMethod": "pd.DataFrame",
       "ref": "168f8f8d-e03f-467b-afd0-4480e7ba2370",
       "rows": [
        [
         "0",
         "HDPE",
         "High-Density Polyethylene",
         "0.95",
         "130",
         "470",
         "none"
        ],
        [
         "1",
         "LDPE",
         "Low-Density Polyethylene",
         "0.92",
         "110",
         "450",
         "dyes"
        ],
        [
         "2",
         "PP",
         "Polypropylene",
         "0.9",
         "160",
         "480",
         "fillers"
        ],
        [
         "3",
         "PS",
         "Polystyrene",
         "1.05",
         "100",
         "460",
         "none"
        ]
       ],
       "shape": {
        "columns": 6,
        "rows": 4
       }
      },
      "text/html": [
       "<div>\n",
       "<style scoped>\n",
       "    .dataframe tbody tr th:only-of-type {\n",
       "        vertical-align: middle;\n",
       "    }\n",
       "\n",
       "    .dataframe tbody tr th {\n",
       "        vertical-align: top;\n",
       "    }\n",
       "\n",
       "    .dataframe thead th {\n",
       "        text-align: right;\n",
       "    }\n",
       "</style>\n",
       "<table border=\"1\" class=\"dataframe\">\n",
       "  <thead>\n",
       "    <tr style=\"text-align: right;\">\n",
       "      <th></th>\n",
       "      <th>plastic_id</th>\n",
       "      <th>plastic_type</th>\n",
       "      <th>density</th>\n",
       "      <th>melting_point</th>\n",
       "      <th>degradation_temp</th>\n",
       "      <th>additives_present</th>\n",
       "    </tr>\n",
       "  </thead>\n",
       "  <tbody>\n",
       "    <tr>\n",
       "      <th>0</th>\n",
       "      <td>HDPE</td>\n",
       "      <td>High-Density Polyethylene</td>\n",
       "      <td>0.95</td>\n",
       "      <td>130</td>\n",
       "      <td>470</td>\n",
       "      <td>none</td>\n",
       "    </tr>\n",
       "    <tr>\n",
       "      <th>1</th>\n",
       "      <td>LDPE</td>\n",
       "      <td>Low-Density Polyethylene</td>\n",
       "      <td>0.92</td>\n",
       "      <td>110</td>\n",
       "      <td>450</td>\n",
       "      <td>dyes</td>\n",
       "    </tr>\n",
       "    <tr>\n",
       "      <th>2</th>\n",
       "      <td>PP</td>\n",
       "      <td>Polypropylene</td>\n",
       "      <td>0.90</td>\n",
       "      <td>160</td>\n",
       "      <td>480</td>\n",
       "      <td>fillers</td>\n",
       "    </tr>\n",
       "    <tr>\n",
       "      <th>3</th>\n",
       "      <td>PS</td>\n",
       "      <td>Polystyrene</td>\n",
       "      <td>1.05</td>\n",
       "      <td>100</td>\n",
       "      <td>460</td>\n",
       "      <td>none</td>\n",
       "    </tr>\n",
       "  </tbody>\n",
       "</table>\n",
       "</div>"
      ],
      "text/plain": [
       "  plastic_id               plastic_type  density  melting_point  \\\n",
       "0       HDPE  High-Density Polyethylene     0.95            130   \n",
       "1       LDPE   Low-Density Polyethylene     0.92            110   \n",
       "2         PP              Polypropylene     0.90            160   \n",
       "3         PS                Polystyrene     1.05            100   \n",
       "\n",
       "   degradation_temp additives_present  \n",
       "0               470              none  \n",
       "1               450              dyes  \n",
       "2               480           fillers  \n",
       "3               460              none  "
      ]
     },
     "execution_count": 10,
     "metadata": {},
     "output_type": "execute_result"
    }
   ],
   "source": [
    "feed.head()"
   ]
  },
  {
   "cell_type": "code",
   "execution_count": 11,
   "id": "8b89c3ff",
   "metadata": {},
   "outputs": [
    {
     "data": {
      "application/vnd.microsoft.datawrangler.viewer.v0+json": {
       "columns": [
        {
         "name": "index",
         "rawType": "int64",
         "type": "integer"
        },
        {
         "name": "condition_id",
         "rawType": "object",
         "type": "string"
        },
        {
         "name": "blend_id",
         "rawType": "object",
         "type": "string"
        },
        {
         "name": "temperature",
         "rawType": "int64",
         "type": "integer"
        },
        {
         "name": "heating_rate",
         "rawType": "float64",
         "type": "float"
        },
        {
         "name": "residence_time",
         "rawType": "int64",
         "type": "integer"
        },
        {
         "name": "catalyst",
         "rawType": "object",
         "type": "unknown"
        },
        {
         "name": "reactor_type",
         "rawType": "object",
         "type": "string"
        },
        {
         "name": "energy_input",
         "rawType": "float64",
         "type": "float"
        }
       ],
       "conversionMethod": "pd.DataFrame",
       "ref": "5c417a05-cd70-4533-95eb-4a437b39aec3",
       "rows": [
        [
         "0",
         "C1",
         "B1",
         "471",
         "14.0",
         "37",
         null,
         "batch",
         "20.9"
        ],
        [
         "1",
         "C2",
         "B2",
         "429",
         "16.8",
         "34",
         "Silica",
         "batch",
         "23.5"
        ],
        [
         "2",
         "C3",
         "B3",
         "463",
         "15.4",
         "48",
         "Zeolite",
         "batch",
         "39.1"
        ],
        [
         "3",
         "C4",
         "B4",
         "450",
         "10.2",
         "39",
         null,
         "batch",
         "21.4"
        ],
        [
         "4",
         "C5",
         "B5",
         "472",
         "8.3",
         "40",
         "Zeolite",
         "batch",
         "27.1"
        ]
       ],
       "shape": {
        "columns": 8,
        "rows": 5
       }
      },
      "text/html": [
       "<div>\n",
       "<style scoped>\n",
       "    .dataframe tbody tr th:only-of-type {\n",
       "        vertical-align: middle;\n",
       "    }\n",
       "\n",
       "    .dataframe tbody tr th {\n",
       "        vertical-align: top;\n",
       "    }\n",
       "\n",
       "    .dataframe thead th {\n",
       "        text-align: right;\n",
       "    }\n",
       "</style>\n",
       "<table border=\"1\" class=\"dataframe\">\n",
       "  <thead>\n",
       "    <tr style=\"text-align: right;\">\n",
       "      <th></th>\n",
       "      <th>condition_id</th>\n",
       "      <th>blend_id</th>\n",
       "      <th>temperature</th>\n",
       "      <th>heating_rate</th>\n",
       "      <th>residence_time</th>\n",
       "      <th>catalyst</th>\n",
       "      <th>reactor_type</th>\n",
       "      <th>energy_input</th>\n",
       "    </tr>\n",
       "  </thead>\n",
       "  <tbody>\n",
       "    <tr>\n",
       "      <th>0</th>\n",
       "      <td>C1</td>\n",
       "      <td>B1</td>\n",
       "      <td>471</td>\n",
       "      <td>14.0</td>\n",
       "      <td>37</td>\n",
       "      <td>NaN</td>\n",
       "      <td>batch</td>\n",
       "      <td>20.9</td>\n",
       "    </tr>\n",
       "    <tr>\n",
       "      <th>1</th>\n",
       "      <td>C2</td>\n",
       "      <td>B2</td>\n",
       "      <td>429</td>\n",
       "      <td>16.8</td>\n",
       "      <td>34</td>\n",
       "      <td>Silica</td>\n",
       "      <td>batch</td>\n",
       "      <td>23.5</td>\n",
       "    </tr>\n",
       "    <tr>\n",
       "      <th>2</th>\n",
       "      <td>C3</td>\n",
       "      <td>B3</td>\n",
       "      <td>463</td>\n",
       "      <td>15.4</td>\n",
       "      <td>48</td>\n",
       "      <td>Zeolite</td>\n",
       "      <td>batch</td>\n",
       "      <td>39.1</td>\n",
       "    </tr>\n",
       "    <tr>\n",
       "      <th>3</th>\n",
       "      <td>C4</td>\n",
       "      <td>B4</td>\n",
       "      <td>450</td>\n",
       "      <td>10.2</td>\n",
       "      <td>39</td>\n",
       "      <td>NaN</td>\n",
       "      <td>batch</td>\n",
       "      <td>21.4</td>\n",
       "    </tr>\n",
       "    <tr>\n",
       "      <th>4</th>\n",
       "      <td>C5</td>\n",
       "      <td>B5</td>\n",
       "      <td>472</td>\n",
       "      <td>8.3</td>\n",
       "      <td>40</td>\n",
       "      <td>Zeolite</td>\n",
       "      <td>batch</td>\n",
       "      <td>27.1</td>\n",
       "    </tr>\n",
       "  </tbody>\n",
       "</table>\n",
       "</div>"
      ],
      "text/plain": [
       "  condition_id blend_id  temperature  heating_rate  residence_time catalyst  \\\n",
       "0           C1       B1          471          14.0              37      NaN   \n",
       "1           C2       B2          429          16.8              34   Silica   \n",
       "2           C3       B3          463          15.4              48  Zeolite   \n",
       "3           C4       B4          450          10.2              39      NaN   \n",
       "4           C5       B5          472           8.3              40  Zeolite   \n",
       "\n",
       "  reactor_type  energy_input  \n",
       "0        batch          20.9  \n",
       "1        batch          23.5  \n",
       "2        batch          39.1  \n",
       "3        batch          21.4  \n",
       "4        batch          27.1  "
      ]
     },
     "execution_count": 11,
     "metadata": {},
     "output_type": "execute_result"
    }
   ],
   "source": [
    "condition.head()"
   ]
  },
  {
   "cell_type": "code",
   "execution_count": 12,
   "id": "deb12421",
   "metadata": {},
   "outputs": [
    {
     "data": {
      "application/vnd.microsoft.datawrangler.viewer.v0+json": {
       "columns": [
        {
         "name": "index",
         "rawType": "int64",
         "type": "integer"
        },
        {
         "name": "output_id",
         "rawType": "object",
         "type": "string"
        },
        {
         "name": "condition_id",
         "rawType": "object",
         "type": "string"
        },
        {
         "name": "fuel_yield",
         "rawType": "float64",
         "type": "float"
        },
        {
         "name": "gas_yield",
         "rawType": "float64",
         "type": "float"
        },
        {
         "name": "char_yield",
         "rawType": "float64",
         "type": "float"
        },
        {
         "name": "fuel_energy_content",
         "rawType": "float64",
         "type": "float"
        },
        {
         "name": "emissions",
         "rawType": "float64",
         "type": "float"
        },
        {
         "name": "efficiency",
         "rawType": "float64",
         "type": "float"
        }
       ],
       "conversionMethod": "pd.DataFrame",
       "ref": "97969c50-6d85-49ff-b10b-341b2496f3cd",
       "rows": [
        [
         "0",
         "O1",
         "C1",
         "65.1",
         "17.5",
         "17.4",
         "40.3",
         "1.95",
         "125.535"
        ],
        [
         "1",
         "O2",
         "C2",
         "77.2",
         "23.7",
         "-0.9",
         "40.5",
         "1.71",
         "132.994"
        ],
        [
         "2",
         "O3",
         "C3",
         "70.9",
         "29.6",
         "-0.6",
         "40.6",
         "2.01",
         "73.649"
        ],
        [
         "3",
         "O4",
         "C4",
         "71.4",
         "26.4",
         "2.2",
         "40.2",
         "1.91",
         "134.106"
        ],
        [
         "4",
         "O5",
         "C5",
         "66.9",
         "21.4",
         "11.8",
         "39.3",
         "1.62",
         "96.964"
        ]
       ],
       "shape": {
        "columns": 8,
        "rows": 5
       }
      },
      "text/html": [
       "<div>\n",
       "<style scoped>\n",
       "    .dataframe tbody tr th:only-of-type {\n",
       "        vertical-align: middle;\n",
       "    }\n",
       "\n",
       "    .dataframe tbody tr th {\n",
       "        vertical-align: top;\n",
       "    }\n",
       "\n",
       "    .dataframe thead th {\n",
       "        text-align: right;\n",
       "    }\n",
       "</style>\n",
       "<table border=\"1\" class=\"dataframe\">\n",
       "  <thead>\n",
       "    <tr style=\"text-align: right;\">\n",
       "      <th></th>\n",
       "      <th>output_id</th>\n",
       "      <th>condition_id</th>\n",
       "      <th>fuel_yield</th>\n",
       "      <th>gas_yield</th>\n",
       "      <th>char_yield</th>\n",
       "      <th>fuel_energy_content</th>\n",
       "      <th>emissions</th>\n",
       "      <th>efficiency</th>\n",
       "    </tr>\n",
       "  </thead>\n",
       "  <tbody>\n",
       "    <tr>\n",
       "      <th>0</th>\n",
       "      <td>O1</td>\n",
       "      <td>C1</td>\n",
       "      <td>65.1</td>\n",
       "      <td>17.5</td>\n",
       "      <td>17.4</td>\n",
       "      <td>40.3</td>\n",
       "      <td>1.95</td>\n",
       "      <td>125.535</td>\n",
       "    </tr>\n",
       "    <tr>\n",
       "      <th>1</th>\n",
       "      <td>O2</td>\n",
       "      <td>C2</td>\n",
       "      <td>77.2</td>\n",
       "      <td>23.7</td>\n",
       "      <td>-0.9</td>\n",
       "      <td>40.5</td>\n",
       "      <td>1.71</td>\n",
       "      <td>132.994</td>\n",
       "    </tr>\n",
       "    <tr>\n",
       "      <th>2</th>\n",
       "      <td>O3</td>\n",
       "      <td>C3</td>\n",
       "      <td>70.9</td>\n",
       "      <td>29.6</td>\n",
       "      <td>-0.6</td>\n",
       "      <td>40.6</td>\n",
       "      <td>2.01</td>\n",
       "      <td>73.649</td>\n",
       "    </tr>\n",
       "    <tr>\n",
       "      <th>3</th>\n",
       "      <td>O4</td>\n",
       "      <td>C4</td>\n",
       "      <td>71.4</td>\n",
       "      <td>26.4</td>\n",
       "      <td>2.2</td>\n",
       "      <td>40.2</td>\n",
       "      <td>1.91</td>\n",
       "      <td>134.106</td>\n",
       "    </tr>\n",
       "    <tr>\n",
       "      <th>4</th>\n",
       "      <td>O5</td>\n",
       "      <td>C5</td>\n",
       "      <td>66.9</td>\n",
       "      <td>21.4</td>\n",
       "      <td>11.8</td>\n",
       "      <td>39.3</td>\n",
       "      <td>1.62</td>\n",
       "      <td>96.964</td>\n",
       "    </tr>\n",
       "  </tbody>\n",
       "</table>\n",
       "</div>"
      ],
      "text/plain": [
       "  output_id condition_id  fuel_yield  gas_yield  char_yield  \\\n",
       "0        O1           C1        65.1       17.5        17.4   \n",
       "1        O2           C2        77.2       23.7        -0.9   \n",
       "2        O3           C3        70.9       29.6        -0.6   \n",
       "3        O4           C4        71.4       26.4         2.2   \n",
       "4        O5           C5        66.9       21.4        11.8   \n",
       "\n",
       "   fuel_energy_content  emissions  efficiency  \n",
       "0                 40.3       1.95     125.535  \n",
       "1                 40.5       1.71     132.994  \n",
       "2                 40.6       2.01      73.649  \n",
       "3                 40.2       1.91     134.106  \n",
       "4                 39.3       1.62      96.964  "
      ]
     },
     "execution_count": 12,
     "metadata": {},
     "output_type": "execute_result"
    }
   ],
   "source": [
    "output.head()"
   ]
  }
 ],
 "metadata": {
  "kernelspec": {
   "display_name": "base",
   "language": "python",
   "name": "python3"
  },
  "language_info": {
   "codemirror_mode": {
    "name": "ipython",
    "version": 3
   },
   "file_extension": ".py",
   "mimetype": "text/x-python",
   "name": "python",
   "nbconvert_exporter": "python",
   "pygments_lexer": "ipython3",
   "version": "3.11.7"
  }
 },
 "nbformat": 4,
 "nbformat_minor": 5
}
