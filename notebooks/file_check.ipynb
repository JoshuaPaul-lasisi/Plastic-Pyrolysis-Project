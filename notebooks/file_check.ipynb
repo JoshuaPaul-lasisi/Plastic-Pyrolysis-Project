{
 "cells": [
  {
   "cell_type": "code",
   "execution_count": 1,
   "id": "3d5f8a89",
   "metadata": {},
   "outputs": [],
   "source": [
    "import pandas as pd\n",
    "import numpy as np"
   ]
  },
  {
   "cell_type": "code",
   "execution_count": 2,
   "id": "ea203235",
   "metadata": {},
   "outputs": [],
   "source": [
    "blend = pd.read_csv(\"../data/blend_compositions.csv\")\n",
    "feed = pd.read_csv(\"../data/plastic_feedstock.csv\")\n",
    "condition = pd.read_csv(\"../data/pyrolysis_conditions.csv\")\n",
    "output = pd.read_csv(\"../data/pyrolysis_outputs.csv\")"
   ]
  },
  {
   "cell_type": "code",
   "execution_count": 3,
   "id": "3a9b2bcf",
   "metadata": {},
   "outputs": [
    {
     "data": {
      "application/vnd.microsoft.datawrangler.viewer.v0+json": {
       "columns": [
        {
         "name": "index",
         "rawType": "int64",
         "type": "integer"
        },
        {
         "name": "blend_id",
         "rawType": "object",
         "type": "string"
        },
        {
         "name": "plastic_id",
         "rawType": "object",
         "type": "string"
        },
        {
         "name": "percentage",
         "rawType": "int64",
         "type": "integer"
        }
       ],
       "conversionMethod": "pd.DataFrame",
       "ref": "c248b237-b536-40ab-869e-cacaa4b45318",
       "rows": [
        [
         "0",
         "B1",
         "HDPE",
         "100"
        ],
        [
         "1",
         "B2",
         "LDPE",
         "100"
        ],
        [
         "2",
         "B3",
         "PP",
         "100"
        ],
        [
         "3",
         "B4",
         "PS",
         "100"
        ],
        [
         "4",
         "B5",
         "PP",
         "50"
        ]
       ],
       "shape": {
        "columns": 3,
        "rows": 5
       }
      },
      "text/html": [
       "<div>\n",
       "<style scoped>\n",
       "    .dataframe tbody tr th:only-of-type {\n",
       "        vertical-align: middle;\n",
       "    }\n",
       "\n",
       "    .dataframe tbody tr th {\n",
       "        vertical-align: top;\n",
       "    }\n",
       "\n",
       "    .dataframe thead th {\n",
       "        text-align: right;\n",
       "    }\n",
       "</style>\n",
       "<table border=\"1\" class=\"dataframe\">\n",
       "  <thead>\n",
       "    <tr style=\"text-align: right;\">\n",
       "      <th></th>\n",
       "      <th>blend_id</th>\n",
       "      <th>plastic_id</th>\n",
       "      <th>percentage</th>\n",
       "    </tr>\n",
       "  </thead>\n",
       "  <tbody>\n",
       "    <tr>\n",
       "      <th>0</th>\n",
       "      <td>B1</td>\n",
       "      <td>HDPE</td>\n",
       "      <td>100</td>\n",
       "    </tr>\n",
       "    <tr>\n",
       "      <th>1</th>\n",
       "      <td>B2</td>\n",
       "      <td>LDPE</td>\n",
       "      <td>100</td>\n",
       "    </tr>\n",
       "    <tr>\n",
       "      <th>2</th>\n",
       "      <td>B3</td>\n",
       "      <td>PP</td>\n",
       "      <td>100</td>\n",
       "    </tr>\n",
       "    <tr>\n",
       "      <th>3</th>\n",
       "      <td>B4</td>\n",
       "      <td>PS</td>\n",
       "      <td>100</td>\n",
       "    </tr>\n",
       "    <tr>\n",
       "      <th>4</th>\n",
       "      <td>B5</td>\n",
       "      <td>PP</td>\n",
       "      <td>50</td>\n",
       "    </tr>\n",
       "  </tbody>\n",
       "</table>\n",
       "</div>"
      ],
      "text/plain": [
       "  blend_id plastic_id  percentage\n",
       "0       B1       HDPE         100\n",
       "1       B2       LDPE         100\n",
       "2       B3         PP         100\n",
       "3       B4         PS         100\n",
       "4       B5         PP          50"
      ]
     },
     "execution_count": 3,
     "metadata": {},
     "output_type": "execute_result"
    }
   ],
   "source": [
    "blend.head()"
   ]
  },
  {
   "cell_type": "code",
   "execution_count": 4,
   "id": "915de8b6",
   "metadata": {},
   "outputs": [
    {
     "data": {
      "application/vnd.microsoft.datawrangler.viewer.v0+json": {
       "columns": [
        {
         "name": "index",
         "rawType": "int64",
         "type": "integer"
        },
        {
         "name": "plastic_id",
         "rawType": "object",
         "type": "string"
        },
        {
         "name": "plastic_type",
         "rawType": "object",
         "type": "string"
        },
        {
         "name": "density",
         "rawType": "float64",
         "type": "float"
        },
        {
         "name": "melting_point",
         "rawType": "int64",
         "type": "integer"
        },
        {
         "name": "degradation_temp",
         "rawType": "int64",
         "type": "integer"
        },
        {
         "name": "additives_present",
         "rawType": "object",
         "type": "string"
        }
       ],
       "conversionMethod": "pd.DataFrame",
       "ref": "1319abea-f4e3-4a28-bcd3-0aa5116b96dd",
       "rows": [
        [
         "0",
         "HDPE",
         "High-Density Polyethylene",
         "0.95",
         "130",
         "470",
         "none"
        ],
        [
         "1",
         "LDPE",
         "Low-Density Polyethylene",
         "0.92",
         "110",
         "450",
         "dyes"
        ],
        [
         "2",
         "PP",
         "Polypropylene",
         "0.9",
         "160",
         "480",
         "fillers"
        ],
        [
         "3",
         "PS",
         "Polystyrene",
         "1.05",
         "100",
         "460",
         "none"
        ],
        [
         "4",
         "Mixed (PP/PE)",
         "Mixed Polypropylene and Polyethylene",
         "0.93",
         "135",
         "475",
         "mixed"
        ]
       ],
       "shape": {
        "columns": 6,
        "rows": 5
       }
      },
      "text/html": [
       "<div>\n",
       "<style scoped>\n",
       "    .dataframe tbody tr th:only-of-type {\n",
       "        vertical-align: middle;\n",
       "    }\n",
       "\n",
       "    .dataframe tbody tr th {\n",
       "        vertical-align: top;\n",
       "    }\n",
       "\n",
       "    .dataframe thead th {\n",
       "        text-align: right;\n",
       "    }\n",
       "</style>\n",
       "<table border=\"1\" class=\"dataframe\">\n",
       "  <thead>\n",
       "    <tr style=\"text-align: right;\">\n",
       "      <th></th>\n",
       "      <th>plastic_id</th>\n",
       "      <th>plastic_type</th>\n",
       "      <th>density</th>\n",
       "      <th>melting_point</th>\n",
       "      <th>degradation_temp</th>\n",
       "      <th>additives_present</th>\n",
       "    </tr>\n",
       "  </thead>\n",
       "  <tbody>\n",
       "    <tr>\n",
       "      <th>0</th>\n",
       "      <td>HDPE</td>\n",
       "      <td>High-Density Polyethylene</td>\n",
       "      <td>0.95</td>\n",
       "      <td>130</td>\n",
       "      <td>470</td>\n",
       "      <td>none</td>\n",
       "    </tr>\n",
       "    <tr>\n",
       "      <th>1</th>\n",
       "      <td>LDPE</td>\n",
       "      <td>Low-Density Polyethylene</td>\n",
       "      <td>0.92</td>\n",
       "      <td>110</td>\n",
       "      <td>450</td>\n",
       "      <td>dyes</td>\n",
       "    </tr>\n",
       "    <tr>\n",
       "      <th>2</th>\n",
       "      <td>PP</td>\n",
       "      <td>Polypropylene</td>\n",
       "      <td>0.90</td>\n",
       "      <td>160</td>\n",
       "      <td>480</td>\n",
       "      <td>fillers</td>\n",
       "    </tr>\n",
       "    <tr>\n",
       "      <th>3</th>\n",
       "      <td>PS</td>\n",
       "      <td>Polystyrene</td>\n",
       "      <td>1.05</td>\n",
       "      <td>100</td>\n",
       "      <td>460</td>\n",
       "      <td>none</td>\n",
       "    </tr>\n",
       "    <tr>\n",
       "      <th>4</th>\n",
       "      <td>Mixed (PP/PE)</td>\n",
       "      <td>Mixed Polypropylene and Polyethylene</td>\n",
       "      <td>0.93</td>\n",
       "      <td>135</td>\n",
       "      <td>475</td>\n",
       "      <td>mixed</td>\n",
       "    </tr>\n",
       "  </tbody>\n",
       "</table>\n",
       "</div>"
      ],
      "text/plain": [
       "      plastic_id                          plastic_type  density  \\\n",
       "0           HDPE             High-Density Polyethylene     0.95   \n",
       "1           LDPE              Low-Density Polyethylene     0.92   \n",
       "2             PP                         Polypropylene     0.90   \n",
       "3             PS                           Polystyrene     1.05   \n",
       "4  Mixed (PP/PE)  Mixed Polypropylene and Polyethylene     0.93   \n",
       "\n",
       "   melting_point  degradation_temp additives_present  \n",
       "0            130               470              none  \n",
       "1            110               450              dyes  \n",
       "2            160               480           fillers  \n",
       "3            100               460              none  \n",
       "4            135               475             mixed  "
      ]
     },
     "execution_count": 4,
     "metadata": {},
     "output_type": "execute_result"
    }
   ],
   "source": [
    "feed.head()"
   ]
  },
  {
   "cell_type": "code",
   "execution_count": 5,
   "id": "8b89c3ff",
   "metadata": {},
   "outputs": [
    {
     "data": {
      "application/vnd.microsoft.datawrangler.viewer.v0+json": {
       "columns": [
        {
         "name": "index",
         "rawType": "int64",
         "type": "integer"
        },
        {
         "name": "condition_id",
         "rawType": "object",
         "type": "string"
        },
        {
         "name": "blend_id",
         "rawType": "object",
         "type": "string"
        },
        {
         "name": "temperature",
         "rawType": "int64",
         "type": "integer"
        },
        {
         "name": "heating_rate",
         "rawType": "int64",
         "type": "integer"
        },
        {
         "name": "residence_time",
         "rawType": "int64",
         "type": "integer"
        },
        {
         "name": "catalyst",
         "rawType": "object",
         "type": "unknown"
        },
        {
         "name": "reactor_type",
         "rawType": "object",
         "type": "string"
        },
        {
         "name": "energy_input",
         "rawType": "int64",
         "type": "integer"
        }
       ],
       "conversionMethod": "pd.DataFrame",
       "ref": "aeb3b1c9-281f-48a5-851c-6b52a8fad68c",
       "rows": [
        [
         "0",
         "C1",
         "B1",
         "450",
         "10",
         "30",
         "Zeolite",
         "batch",
         "25"
        ],
        [
         "1",
         "C2",
         "B2",
         "440",
         "15",
         "45",
         null,
         "batch",
         "30"
        ],
        [
         "2",
         "C3",
         "B3",
         "460",
         "12",
         "35",
         "Alumina",
         "batch",
         "28"
        ],
        [
         "3",
         "C4",
         "B4",
         "430",
         "8",
         "40",
         null,
         "batch",
         "22"
        ],
        [
         "4",
         "C5",
         "B5",
         "455",
         "10",
         "38",
         "Zeolite",
         "batch",
         "27"
        ]
       ],
       "shape": {
        "columns": 8,
        "rows": 5
       }
      },
      "text/html": [
       "<div>\n",
       "<style scoped>\n",
       "    .dataframe tbody tr th:only-of-type {\n",
       "        vertical-align: middle;\n",
       "    }\n",
       "\n",
       "    .dataframe tbody tr th {\n",
       "        vertical-align: top;\n",
       "    }\n",
       "\n",
       "    .dataframe thead th {\n",
       "        text-align: right;\n",
       "    }\n",
       "</style>\n",
       "<table border=\"1\" class=\"dataframe\">\n",
       "  <thead>\n",
       "    <tr style=\"text-align: right;\">\n",
       "      <th></th>\n",
       "      <th>condition_id</th>\n",
       "      <th>blend_id</th>\n",
       "      <th>temperature</th>\n",
       "      <th>heating_rate</th>\n",
       "      <th>residence_time</th>\n",
       "      <th>catalyst</th>\n",
       "      <th>reactor_type</th>\n",
       "      <th>energy_input</th>\n",
       "    </tr>\n",
       "  </thead>\n",
       "  <tbody>\n",
       "    <tr>\n",
       "      <th>0</th>\n",
       "      <td>C1</td>\n",
       "      <td>B1</td>\n",
       "      <td>450</td>\n",
       "      <td>10</td>\n",
       "      <td>30</td>\n",
       "      <td>Zeolite</td>\n",
       "      <td>batch</td>\n",
       "      <td>25</td>\n",
       "    </tr>\n",
       "    <tr>\n",
       "      <th>1</th>\n",
       "      <td>C2</td>\n",
       "      <td>B2</td>\n",
       "      <td>440</td>\n",
       "      <td>15</td>\n",
       "      <td>45</td>\n",
       "      <td>NaN</td>\n",
       "      <td>batch</td>\n",
       "      <td>30</td>\n",
       "    </tr>\n",
       "    <tr>\n",
       "      <th>2</th>\n",
       "      <td>C3</td>\n",
       "      <td>B3</td>\n",
       "      <td>460</td>\n",
       "      <td>12</td>\n",
       "      <td>35</td>\n",
       "      <td>Alumina</td>\n",
       "      <td>batch</td>\n",
       "      <td>28</td>\n",
       "    </tr>\n",
       "    <tr>\n",
       "      <th>3</th>\n",
       "      <td>C4</td>\n",
       "      <td>B4</td>\n",
       "      <td>430</td>\n",
       "      <td>8</td>\n",
       "      <td>40</td>\n",
       "      <td>NaN</td>\n",
       "      <td>batch</td>\n",
       "      <td>22</td>\n",
       "    </tr>\n",
       "    <tr>\n",
       "      <th>4</th>\n",
       "      <td>C5</td>\n",
       "      <td>B5</td>\n",
       "      <td>455</td>\n",
       "      <td>10</td>\n",
       "      <td>38</td>\n",
       "      <td>Zeolite</td>\n",
       "      <td>batch</td>\n",
       "      <td>27</td>\n",
       "    </tr>\n",
       "  </tbody>\n",
       "</table>\n",
       "</div>"
      ],
      "text/plain": [
       "  condition_id blend_id  temperature  heating_rate  residence_time catalyst  \\\n",
       "0           C1       B1          450            10              30  Zeolite   \n",
       "1           C2       B2          440            15              45      NaN   \n",
       "2           C3       B3          460            12              35  Alumina   \n",
       "3           C4       B4          430             8              40      NaN   \n",
       "4           C5       B5          455            10              38  Zeolite   \n",
       "\n",
       "  reactor_type  energy_input  \n",
       "0        batch            25  \n",
       "1        batch            30  \n",
       "2        batch            28  \n",
       "3        batch            22  \n",
       "4        batch            27  "
      ]
     },
     "execution_count": 5,
     "metadata": {},
     "output_type": "execute_result"
    }
   ],
   "source": [
    "condition.head()"
   ]
  },
  {
   "cell_type": "code",
   "execution_count": 6,
   "id": "deb12421",
   "metadata": {},
   "outputs": [
    {
     "data": {
      "application/vnd.microsoft.datawrangler.viewer.v0+json": {
       "columns": [
        {
         "name": "index",
         "rawType": "int64",
         "type": "integer"
        },
        {
         "name": "output_id",
         "rawType": "object",
         "type": "string"
        },
        {
         "name": "condition_id",
         "rawType": "object",
         "type": "string"
        },
        {
         "name": "fuel_yield",
         "rawType": "int64",
         "type": "integer"
        },
        {
         "name": "gas_yield",
         "rawType": "int64",
         "type": "integer"
        },
        {
         "name": "char_yield",
         "rawType": "int64",
         "type": "integer"
        },
        {
         "name": "fuel_energy_content",
         "rawType": "float64",
         "type": "float"
        },
        {
         "name": "emissions",
         "rawType": "float64",
         "type": "float"
        },
        {
         "name": "efficiency",
         "rawType": "float64",
         "type": "float"
        }
       ],
       "conversionMethod": "pd.DataFrame",
       "ref": "c1065434-5180-4fff-b9b7-8a039962f04d",
       "rows": [
        [
         "0",
         "O1",
         "C1",
         "75",
         "15",
         "10",
         "42.0",
         "1.74",
         "126.0"
        ],
        [
         "1",
         "O2",
         "C2",
         "70",
         "20",
         "10",
         "40.0",
         "2.4",
         "93.333"
        ],
        [
         "2",
         "O3",
         "C3",
         "72",
         "18",
         "10",
         "41.0",
         "1.54",
         "105.429"
        ],
        [
         "3",
         "O4",
         "C4",
         "68",
         "22",
         "10",
         "39.0",
         "2.07",
         "120.545"
        ],
        [
         "4",
         "O5",
         "C5",
         "73",
         "17",
         "10",
         "41.5",
         "1.53",
         "112.204"
        ]
       ],
       "shape": {
        "columns": 8,
        "rows": 5
       }
      },
      "text/html": [
       "<div>\n",
       "<style scoped>\n",
       "    .dataframe tbody tr th:only-of-type {\n",
       "        vertical-align: middle;\n",
       "    }\n",
       "\n",
       "    .dataframe tbody tr th {\n",
       "        vertical-align: top;\n",
       "    }\n",
       "\n",
       "    .dataframe thead th {\n",
       "        text-align: right;\n",
       "    }\n",
       "</style>\n",
       "<table border=\"1\" class=\"dataframe\">\n",
       "  <thead>\n",
       "    <tr style=\"text-align: right;\">\n",
       "      <th></th>\n",
       "      <th>output_id</th>\n",
       "      <th>condition_id</th>\n",
       "      <th>fuel_yield</th>\n",
       "      <th>gas_yield</th>\n",
       "      <th>char_yield</th>\n",
       "      <th>fuel_energy_content</th>\n",
       "      <th>emissions</th>\n",
       "      <th>efficiency</th>\n",
       "    </tr>\n",
       "  </thead>\n",
       "  <tbody>\n",
       "    <tr>\n",
       "      <th>0</th>\n",
       "      <td>O1</td>\n",
       "      <td>C1</td>\n",
       "      <td>75</td>\n",
       "      <td>15</td>\n",
       "      <td>10</td>\n",
       "      <td>42.0</td>\n",
       "      <td>1.74</td>\n",
       "      <td>126.000</td>\n",
       "    </tr>\n",
       "    <tr>\n",
       "      <th>1</th>\n",
       "      <td>O2</td>\n",
       "      <td>C2</td>\n",
       "      <td>70</td>\n",
       "      <td>20</td>\n",
       "      <td>10</td>\n",
       "      <td>40.0</td>\n",
       "      <td>2.40</td>\n",
       "      <td>93.333</td>\n",
       "    </tr>\n",
       "    <tr>\n",
       "      <th>2</th>\n",
       "      <td>O3</td>\n",
       "      <td>C3</td>\n",
       "      <td>72</td>\n",
       "      <td>18</td>\n",
       "      <td>10</td>\n",
       "      <td>41.0</td>\n",
       "      <td>1.54</td>\n",
       "      <td>105.429</td>\n",
       "    </tr>\n",
       "    <tr>\n",
       "      <th>3</th>\n",
       "      <td>O4</td>\n",
       "      <td>C4</td>\n",
       "      <td>68</td>\n",
       "      <td>22</td>\n",
       "      <td>10</td>\n",
       "      <td>39.0</td>\n",
       "      <td>2.07</td>\n",
       "      <td>120.545</td>\n",
       "    </tr>\n",
       "    <tr>\n",
       "      <th>4</th>\n",
       "      <td>O5</td>\n",
       "      <td>C5</td>\n",
       "      <td>73</td>\n",
       "      <td>17</td>\n",
       "      <td>10</td>\n",
       "      <td>41.5</td>\n",
       "      <td>1.53</td>\n",
       "      <td>112.204</td>\n",
       "    </tr>\n",
       "  </tbody>\n",
       "</table>\n",
       "</div>"
      ],
      "text/plain": [
       "  output_id condition_id  fuel_yield  gas_yield  char_yield  \\\n",
       "0        O1           C1          75         15          10   \n",
       "1        O2           C2          70         20          10   \n",
       "2        O3           C3          72         18          10   \n",
       "3        O4           C4          68         22          10   \n",
       "4        O5           C5          73         17          10   \n",
       "\n",
       "   fuel_energy_content  emissions  efficiency  \n",
       "0                 42.0       1.74     126.000  \n",
       "1                 40.0       2.40      93.333  \n",
       "2                 41.0       1.54     105.429  \n",
       "3                 39.0       2.07     120.545  \n",
       "4                 41.5       1.53     112.204  "
      ]
     },
     "execution_count": 6,
     "metadata": {},
     "output_type": "execute_result"
    }
   ],
   "source": [
    "output.head()"
   ]
  }
 ],
 "metadata": {
  "kernelspec": {
   "display_name": "base",
   "language": "python",
   "name": "python3"
  },
  "language_info": {
   "codemirror_mode": {
    "name": "ipython",
    "version": 3
   },
   "file_extension": ".py",
   "mimetype": "text/x-python",
   "name": "python",
   "nbconvert_exporter": "python",
   "pygments_lexer": "ipython3",
   "version": "3.11.7"
  }
 },
 "nbformat": 4,
 "nbformat_minor": 5
}
